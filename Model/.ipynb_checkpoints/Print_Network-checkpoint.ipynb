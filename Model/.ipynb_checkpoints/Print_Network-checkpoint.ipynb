{
 "cells": [
  {
   "cell_type": "code",
   "execution_count": 1,
   "metadata": {},
   "outputs": [
    {
     "name": "stderr",
     "output_type": "stream",
     "text": [
      "Using TensorFlow backend.\n"
     ]
    }
   ],
   "source": [
    "import numpy as np\n",
    "import matplotlib.pyplot as plt\n",
    "import math\n",
    "from scipy.io import loadmat\n",
    "from sklearn.model_selection import train_test_split\n",
    "from sklearn.metrics import confusion_matrix\n",
    "import tensorflow as tf\n",
    "from tensorflow.keras import Sequential\n",
    "from tensorflow.keras.layers import Dense\n",
    "from keras.utils import to_categorical\n",
    "import random\n",
    "from tensorflow.keras.models import load_model\n",
    "from numpy import argmax\n",
    "from tensorflow.keras.callbacks import EarlyStopping"
   ]
  },
  {
   "cell_type": "code",
   "execution_count": 2,
   "metadata": {},
   "outputs": [],
   "source": [
    "repo_path = '/Users/chorvat/Dropbox (Brown)/Research Projects/Active/WIFF-Model/'\n",
    "misc_path = repo_path + 'Misc/NN_params.mat'\n",
    "network_string = repo_path + 'Model/NN_v1.h5'\n",
    "out_string = repo_path + 'Model/NN_v1.txt'"
   ]
  },
  {
   "cell_type": "code",
   "execution_count": 3,
   "metadata": {},
   "outputs": [],
   "source": [
    "def softmax(x, axis=None):\n",
    "    x = x - x.max(axis=axis, keepdims=True)\n",
    "    y = np.exp(x)\n",
    "    return y / y.sum(axis=axis, keepdims=True)"
   ]
  },
  {
   "cell_type": "code",
   "execution_count": 4,
   "metadata": {},
   "outputs": [],
   "source": [
    "def relu(x):\n",
    "    return np.maximum(0.0, x)"
   ]
  },
  {
   "cell_type": "code",
   "execution_count": 5,
   "metadata": {},
   "outputs": [],
   "source": [
    "# Custom loss function\n",
    "def mean_size_loss(y_true,y_pred):\n",
    "\n",
    "    print(y_true)\n",
    "        \n",
    "    mfs_true = tf.multiply(y_true,Rcent.T)\n",
    "    mfs_pred = tf.multiply(y_pred,Rcent.T)\n",
    "    \n",
    "    \n",
    "    loss = tf.reduce_sum(abs(mfs_true - mfs_pred),axis=-1)\n",
    "    \n",
    "    # Return a function\n",
    "    return loss\n",
    "\n",
    "misc_data = loadmat(misc_path)\n",
    "Rcent = misc_data['rcent'].T"
   ]
  },
  {
   "cell_type": "code",
   "execution_count": 6,
   "metadata": {},
   "outputs": [],
   "source": [
    "def nn_full(x):\n",
    "    # This code creates the neural network function and shows how it is generated from the text file. Net_weights are obtained as successive parts of the .txt file.\n",
    "    # \n",
    "    \n",
    "    # x is 27xN - full spectrum (25) + ice thickness (1) + ice concentration (1) + latitude\n",
    "    # which gets passed from input to the second layer\n",
    "    # class_weights[0] is input weights. class_weights[1] is the bias. Relu is the activation fcn\n",
    "    y1 = relu(np.dot(x,net_weights[0]) + net_weights[1])\n",
    "\n",
    "    # Now what gets passed from input layer 1 to 2\n",
    "    # class_weights[2] is 1-2 weights. class_weights[3] is bias\n",
    "    y2 = relu(np.dot(y1,net_weights[2]) + net_weights[3])\n",
    "    \n",
    "    # Third layer - again relu activation\n",
    "    y3 = relu(np.dot(y2,net_weights[4]) + net_weights[5])\n",
    "\n",
    "    # Fourth layer - again relu activation\n",
    "    y4 = relu(np.dot(y3,net_weights[6]) + net_weights[7])\n",
    "    \n",
    "    # Fifth layer - again relu activation\n",
    "    y5 = relu(np.dot(y4,net_weights[8]) + net_weights[9])\n",
    "\n",
    "    # Now to output layer \n",
    "    # softmax function should return two numbers that add to 1. \n",
    "    yout = softmax(np.dot(y5,net_weights[10]) + net_weights[11])\n",
    "    \n",
    "    return yout"
   ]
  },
  {
   "cell_type": "code",
   "execution_count": 7,
   "metadata": {
    "scrolled": true
   },
   "outputs": [
    {
     "name": "stdout",
     "output_type": "stream",
     "text": [
      "WARNING:tensorflow:From /Users/chorvat/opt/anaconda3/lib/python3.7/site-packages/tensorflow_core/python/keras/initializers.py:143: calling RandomNormal.__init__ (from tensorflow.python.ops.init_ops) with dtype is deprecated and will be removed in a future version.\n",
      "Instructions for updating:\n",
      "Call initializer instance with the dtype argument instead of passing it to the constructor\n",
      "WARNING:tensorflow:From /Users/chorvat/opt/anaconda3/lib/python3.7/site-packages/tensorflow_core/python/ops/init_ops.py:97: calling Zeros.__init__ (from tensorflow.python.ops.init_ops) with dtype is deprecated and will be removed in a future version.\n",
      "Instructions for updating:\n",
      "Call initializer instance with the dtype argument instead of passing it to the constructor\n",
      "WARNING:tensorflow:From /Users/chorvat/opt/anaconda3/lib/python3.7/site-packages/tensorflow_core/python/ops/resource_variable_ops.py:1630: calling BaseResourceVariable.__init__ (from tensorflow.python.ops.resource_variable_ops) with constraint is deprecated and will be removed in a future version.\n",
      "Instructions for updating:\n",
      "If using Keras pass *_constraint arguments to layers.\n",
      "Tensor(\"dense_11_target:0\", shape=(?, ?), dtype=float32)\n"
     ]
    }
   ],
   "source": [
    "NN_fullnet = load_model(network_string,custom_objects={'mean_size_loss':mean_size_loss});\n",
    "# Architechture is relu in, relu to second level, and then softmax out"
   ]
  },
  {
   "cell_type": "code",
   "execution_count": 27,
   "metadata": {},
   "outputs": [
    {
     "name": "stdout",
     "output_type": "stream",
     "text": [
      "Weight Layer 1 has 2700 elements and has a shape: (27, 100)\n",
      "Weight Layer 2 has 100 elements and has a shape: (100,)\n",
      "Weight Layer 3 has 10000 elements and has a shape: (100, 100)\n",
      "Weight Layer 4 has 100 elements and has a shape: (100,)\n",
      "Weight Layer 5 has 10000 elements and has a shape: (100, 100)\n",
      "Weight Layer 6 has 100 elements and has a shape: (100,)\n",
      "Weight Layer 7 has 10000 elements and has a shape: (100, 100)\n",
      "Weight Layer 8 has 100 elements and has a shape: (100,)\n",
      "Weight Layer 9 has 10000 elements and has a shape: (100, 100)\n",
      "Weight Layer 10 has 100 elements and has a shape: (100,)\n",
      "Weight Layer 11 has 1200 elements and has a shape: (100, 12)\n",
      "Weight Layer 12 has 12 elements and has a shape: (12,)\n"
     ]
    }
   ],
   "source": [
    "# SAVING FULL NETWORK\n",
    "net_weights = NN_fullnet.get_weights()\n",
    "\n",
    "\n",
    "mylist = []\n",
    "i = 0; \n",
    "for arr in net_weights:\n",
    "    i = i + 1\n",
    "    sublist = list(arr.flatten())\n",
    "    \n",
    "    print('Weight Layer ' + str(i) + ' has ' + str(len(sublist)) + ' elements and has a shape: ' + str(np.shape(arr)))\n",
    "\n",
    "    for a in sublist:\n",
    "        mylist.append(a)\n",
    "\n",
    "file1 = open(out_string,\"w\")\n",
    "file1.write(str(mylist)[1:-1])\n",
    "file1.close() "
   ]
  },
  {
   "cell_type": "code",
   "execution_count": 15,
   "metadata": {},
   "outputs": [
    {
     "data": {
      "text/plain": [
       "Text(0.5, 1.0, 'Difference between NN and NN_full code')"
      ]
     },
     "execution_count": 15,
     "metadata": {},
     "output_type": "execute_result"
    },
    {
     "data": {
      "image/png": "[encoded data removed]",
      "text/plain": [
       "<Figure size 432x288 with 1 Axes>"
      ]
     },
     "metadata": {
      "needs_background": "light"
     },
     "output_type": "display_data"
    }
   ],
   "source": [
    "invec = [2.322543878108263e-4,1.589981839060783e-3,8.112276904284954e-3,3.017734736204147e-2,8.668871968984604e-2,0.281472265720367,0.749001085758209,1.08791637420654,1.10219252109528,0.772392153739929,0.559300124645233,0.394673168659210,0.226335361599922,0.133877992630005,9.566487371921539e-2,6.856952607631683e-2,4.777402803301811e-2,3.151062130928040e-2,1.904737576842308e-2,1.082132477313280e-2,5.622150376439095e-3,2.765464130789042e-3,1.271661953069270e-3,5.112921935506165e-4,3.174721496179700e-4,2.02407119175920,5.342104974855429e-2]# which gets passed from input to the second layer\n",
    "\n",
    "outvec_NN = NN_fullnet.predict(np.expand_dims(invec,axis=1).T)\n",
    "outvec_approx = nn_full(np.expand_dims(invec,axis=1).T)\n",
    "\n",
    "plt.plot(Rcent,outvec_NN.T - outvec_approx.T)\n",
    "plt.title(\"Difference between NN and NN_full code\")\n"
   ]
  },
  {
   "cell_type": "code",
   "execution_count": 18,
   "metadata": {},
   "outputs": [
    {
     "data": {
      "text/plain": [
       "(27, 100)"
      ]
     },
     "execution_count": 18,
     "metadata": {},
     "output_type": "execute_result"
    }
   ],
   "source": [
    "np.shape(arr)"
   ]
  },
  {
   "cell_type": "code",
   "execution_count": null,
   "metadata": {},
   "outputs": [],
   "source": []
  }
 ],
 "metadata": {
  "kernelspec": {
   "display_name": "Python 3",
   "language": "python",
   "name": "python3"
  },
  "language_info": {
   "codemirror_mode": {
    "name": "ipython",
    "version": 3
   },
   "file_extension": ".py",
   "mimetype": "text/x-python",
   "name": "python",
   "nbconvert_exporter": "python",
   "pygments_lexer": "ipython3",
   "version": "3.7.4"
  }
 },
 "nbformat": 4,
 "nbformat_minor": 4
}
